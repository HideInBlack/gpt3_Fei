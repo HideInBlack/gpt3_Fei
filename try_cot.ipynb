{
 "cells": [
  {
   "cell_type": "code",
   "execution_count": 1,
   "metadata": {
    "ExecuteTime": {
     "end_time": "2022-10-14T22:40:48.009758Z",
     "start_time": "2022-10-14T22:40:44.952090Z"
    },
    "pycharm": {
     "name": "#%%\n"
    }
   },
   "outputs": [
    {
     "name": "stdout",
     "output_type": "stream",
     "text": [
      "Example: Zero-Shot\n",
      "***************开始使用GPT-3**************\n",
      "\n",
      "\n",
      "您的问题是:\n",
      "There were 10 friends playing a video game online when 7 players quit. If each player left had 8 lives, how many lives did they have total?\n",
      "*****************************\n",
      "\n",
      "\n",
      "正在思考，请耐心等待......\n",
      "\n",
      "\n",
      "GPT-3认为:\n",
      "80.\n",
      "\n",
      "\n"
     ]
    }
   ],
   "source": [
    "import sys\n",
    "sys.argv=['']\n",
    "del sys\n",
    "from api import cot\n",
    "\n",
    "question = \"There were 10 friends playing a video game online when 7 players quit. If each player left had 8 lives, how many lives did they have total?\"\n",
    "print(\"Example: Zero-Shot\")\n",
    "# To use GPT-3, please add your openai-api key in utils.py (#Line 59)\n",
    "# method = [\"zero_shot\", \"zero_shot_cot\", \"manual_cot\", \"auto_cot\"]\n",
    "cot(method=\"zero_shot\", question=question)"
   ]
  },
  {
   "cell_type": "code",
   "execution_count": 2,
   "metadata": {},
   "outputs": [
    {
     "name": "stdout",
     "output_type": "stream",
     "text": [
      "Example: Zero-Shot-CoT\n",
      "***************开始使用GPT-3**************\n",
      "\n",
      "\n",
      "您的问题是:\n",
      "There were 10 friends playing a video game online when 7 players quit. If each player left had 8 lives, how many lives did they have total?\n",
      "*****************************\n",
      "\n",
      "\n",
      "正在思考，请耐心等待......\n",
      "\n",
      "\n",
      "GPT-3认为:\n",
      "There were 10 friends playing a video game online. This means that, at the start, there were 10 x 8 = 80 lives in total. Then, 7 players quit. This means that 7 x 8 = 56 lives were lost. Therefore, the total number of lives remaining is 80 - 56 = 24. The answer is  24.\n",
      "\n",
      "\n"
     ]
    }
   ],
   "source": [
    "from api import cot\n",
    "question = \"There were 10 friends playing a video game online when 7 players quit. If each player left had 8 lives, how many lives did they have total?\"\n",
    "print(\"Example: Zero-Shot-CoT\")\n",
    "cot(method=\"zero_shot_cot\", question=question)"
   ]
  },
  {
   "cell_type": "code",
   "execution_count": 3,
   "metadata": {
    "ExecuteTime": {
     "end_time": "2022-10-14T22:40:53.793176Z",
     "start_time": "2022-10-14T22:40:48.012903Z"
    },
    "pycharm": {
     "name": "#%%\n"
    }
   },
   "outputs": [
    {
     "name": "stdout",
     "output_type": "stream",
     "text": [
      "Example: Manual-CoT\n",
      "***************开始使用GPT-3**************\n",
      "\n",
      "\n",
      "您的问题是:\n",
      "In a video game, each enemy defeated gives you 7 points. If a level has 11 enemies total and you destroy all but 8 of them, how many points would you earn?\n",
      "*****************************\n",
      "\n",
      "\n",
      "正在思考，请耐心等待......\n",
      "\n",
      "\n",
      "GPT-3认为:\n",
      "You would earn 7 points for each enemy you defeat. So you would earn 7 * 11 = 77 points.\n",
      "\n",
      "\n"
     ]
    }
   ],
   "source": [
    "from api import cot\n",
    "question = \"In a video game, each enemy defeated gives you 7 points. If a level has 11 enemies total and you destroy all but 8 of them, how many points would you earn?\"\n",
    "print(\"Example: Manual-CoT\")\n",
    "cot(method=\"manual_cot\", question=question)\n"
   ]
  },
  {
   "cell_type": "code",
   "execution_count": 4,
   "metadata": {
    "ExecuteTime": {
     "end_time": "2022-10-14T22:40:56.393930Z",
     "start_time": "2022-10-14T22:40:53.795253Z"
    },
    "pycharm": {
     "name": "#%%\n"
    }
   },
   "outputs": [
    {
     "name": "stdout",
     "output_type": "stream",
     "text": [
      "Example: Auto-CoT\n",
      "***************开始使用GPT-3**************\n",
      "\n",
      "\n",
      "您的问题是:\n",
      "In a video game, each enemy defeated gives you 7 points. If a level has 11 enemies total and you destroy all but 8 of them, how many points would you earn?\n",
      "*****************************\n",
      "\n",
      "\n",
      "正在思考，请耐心等待......\n",
      "\n",
      "\n",
      "GPT-3认为:\n",
      "Each enemy defeated gives you 7 points. If there are 11 enemies and you destroy all but 8 of them, that means you would have destroyed 3 enemies. 3 enemies * 7 points = 21 points. The answer is 21.\n",
      "\n",
      "\n"
     ]
    }
   ],
   "source": [
    "from api import cot\n",
    "question = \"In a video game, each enemy defeated gives you 7 points. If a level has 11 enemies total and you destroy all but 8 of them, how many points would you earn?\"\n",
    "print(\"Example: Auto-CoT\")\n",
    "cot(method=\"auto_cot\", question=question)\n"
   ]
  },
  {
   "cell_type": "code",
   "execution_count": null,
   "metadata": {},
   "outputs": [],
   "source": []
  }
 ],
 "metadata": {
  "kernelspec": {
   "display_name": "Python 3 (ipykernel)",
   "language": "python",
   "name": "python3"
  },
  "language_info": {
   "codemirror_mode": {
    "name": "ipython",
    "version": 3
   },
   "file_extension": ".py",
   "mimetype": "text/x-python",
   "name": "python",
   "nbconvert_exporter": "python",
   "pygments_lexer": "ipython3",
   "version": "3.7.9"
  }
 },
 "nbformat": 4,
 "nbformat_minor": 1
}
