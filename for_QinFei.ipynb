{
 "cells": [
  {
   "cell_type": "markdown",
   "id": "bcf294fd",
   "metadata": {},
   "source": [
    "# 咸通无所不知"
   ]
  },
  {
   "cell_type": "code",
   "execution_count": 11,
   "id": "2641b30a",
   "metadata": {},
   "outputs": [],
   "source": [
    "import sys\n",
    "sys.argv=['']\n",
    "del sys\n",
    "from api import cot"
   ]
  },
  {
   "cell_type": "markdown",
   "id": "e08d863b",
   "metadata": {},
   "source": [
    "# 先让秦菲看看我们有多厉害！表演一波推理吧小董。"
   ]
  },
  {
   "cell_type": "code",
   "execution_count": 12,
   "id": "6fd75b94",
   "metadata": {},
   "outputs": [
    {
     "name": "stdout",
     "output_type": "stream",
     "text": [
      "***************咸通无所不知**************\n",
      "\n",
      "\n",
      "您的问题是:\n",
      "先让秦菲看看我们有多厉害！表演一波推理吧小董。题目是：可爱的秦菲老师给我布置了作业，由于我没有合理的安排时间，导致晚上需要熬夜做。但是秦菲老师明明不让我熬夜做的！现在问题来了，如果我平常是晚上12点休息，那么就会第二天早上8点20起床。但现在是早上10点起床的，请问我昨天是否熬夜了？如果熬夜的话，是熬到几点才去休息的？\n",
      "*****************************\n",
      "\n",
      "\n",
      "小董正在思考，请耐心等待......\n",
      "\n",
      "\n",
      "智能小董认为:\n",
      "If I usually go to bed at 12:00 AM, that means I would wake up at 8:20 AM the next day. However, if I woke up at 10:00 AM today, that means I must have stayed up later than usual. If I stayed up later than usual, then I must have gone to bed at 2:00 AM. The answer is 2:00 AM.\n",
      "\n",
      "\n"
     ]
    }
   ],
   "source": [
    "from api import cot\n",
    "\n",
    "question = \"先让秦菲看看我们有多厉害！表演一波推理吧小董。题目是：可爱的秦菲老师给我布置了作业，由于我没有合理的安排时间，导致晚上需要熬夜做。但是秦菲老师明明不让我熬夜做的！现在问题来了，如果我平常是晚上12点休息，那么就会第二天早上8点20起床。但现在是早上10点起床的，请问我昨天是否熬夜了？如果熬夜的话，是熬到几点才去休息的？\"\n",
    "\n",
    "cot(method=\"auto_cot\", question=question)"
   ]
  },
  {
   "cell_type": "markdown",
   "id": "84c38929",
   "metadata": {},
   "source": [
    "# 小董，再来一个数学题!"
   ]
  },
  {
   "cell_type": "code",
   "execution_count": 13,
   "id": "9be053a2",
   "metadata": {},
   "outputs": [
    {
     "name": "stdout",
     "output_type": "stream",
     "text": [
      "***************咸通无所不知**************\n",
      "\n",
      "\n",
      "您的问题是:\n",
      "找规律，给你一段数字：4，6，0，6，6，2，8，0，8，请问接下来两个数字应该是多少？\n",
      "*****************************\n",
      "\n",
      "\n",
      "小董正在思考，请耐心等待......\n",
      "\n",
      "\n",
      "智能小董认为:\n",
      "The pattern appears to be that the next number is two more than the previous number. So the next number would be 8 + 2 = 10, and the number after that would be 10 + 2 = 12. The answer is 12.\n",
      "\n",
      "\n"
     ]
    }
   ],
   "source": [
    "from api import cot\n",
    "\n",
    "question = \"找规律，给你一段数字：4，6，0，6，6，2，8，0，8，请问接下来两个数字应该是多少？\"\n",
    "\n",
    "cot(method=\"auto_cot\", question=question)"
   ]
  },
  {
   "cell_type": "markdown",
   "id": "4cc77570",
   "metadata": {},
   "source": [
    "# 好啦，下面开始对秦菲同学的赞美了\n",
    "\n",
    "# 1.应是天仙狂醉，乱把白云揉碎"
   ]
  },
  {
   "cell_type": "code",
   "execution_count": 14,
   "id": "3f226bf3",
   "metadata": {},
   "outputs": [
    {
     "name": "stdout",
     "output_type": "stream",
     "text": [
      "***************咸通无所不知**************\n",
      "\n",
      "\n",
      "您的问题是:\n",
      "应是天仙狂醉，乱把白云揉碎。片片掉落的雪花看到她，也会害羞般低头憔悴。好了，那么该你了，请你用五句中文古诗形容秦菲有多么美丽。\n",
      "*****************************\n",
      "\n",
      "\n",
      "小董正在思考，请耐心等待......\n",
      "\n",
      "\n",
      "智能小董认为:\n",
      "1. 秦菲美丽如天仙，把白云揉碎。2. 片片掉落的雪花看到她，也会害羞般低头憔悴。3. 她的美丽如同白云一般，柔和又细腻。4. 她的美丽像晴天般清新，像雪花般纯净。5. 她的美丽如花般鲜艳，如春雨般清爽。\n",
      "\n",
      "\n"
     ]
    }
   ],
   "source": [
    "from api import cot\n",
    "\n",
    "question = \"应是天仙狂醉，乱把白云揉碎。片片掉落的雪花看到她，也会害羞般低头憔悴。好了，那么该你了，请你用五句中文古诗形容秦菲有多么美丽。\"\n",
    "\n",
    "cot(method=\"manual_cot\", question=question)"
   ]
  },
  {
   "cell_type": "markdown",
   "id": "9064c34c",
   "metadata": {},
   "source": [
    "# 2.一骑红尘菲菲笑，无人知是开心果来（手动狗头）"
   ]
  },
  {
   "cell_type": "code",
   "execution_count": 15,
   "id": "f7e5e485",
   "metadata": {},
   "outputs": [
    {
     "name": "stdout",
     "output_type": "stream",
     "text": [
      "***************咸通无所不知**************\n",
      "\n",
      "\n",
      "您的问题是:\n",
      "一骑红尘菲菲笑，无人知是开心果来（手动狗头）。请你用两句话形容秦菲同学笑的有多可爱。\n",
      "*****************************\n",
      "\n",
      "\n",
      "小董正在思考，请耐心等待......\n",
      "\n",
      "\n",
      "智能小董认为:\n",
      "Qin Fei's smile is very cute. Her smile is very lovely.\n",
      "\n",
      "\n"
     ]
    }
   ],
   "source": [
    "from api import cot\n",
    "\n",
    "question = \"一骑红尘菲菲笑，无人知是开心果来（手动狗头）。请你用两句话形容秦菲同学笑的有多可爱。\"\n",
    "\n",
    "cot(method=\"auto_cot\", question=question)"
   ]
  },
  {
   "cell_type": "markdown",
   "id": "22d621d4",
   "metadata": {},
   "source": [
    "# 3.开心果技能发动！"
   ]
  },
  {
   "cell_type": "code",
   "execution_count": 16,
   "id": "be02efb3",
   "metadata": {},
   "outputs": [
    {
     "name": "stdout",
     "output_type": "stream",
     "text": [
      "***************咸通无所不知**************\n",
      "\n",
      "\n",
      "您的问题是:\n",
      " 笑话是指引人发笑的话或事情，笑话的特点是篇幅短小，故事情节简单而巧妙，往往出人意料。所以作为秦菲同学的开心果，又怎么能不会讲笑话呢！所以请你用俄语讲1个非常有趣的笑话听吧。\n",
      "*****************************\n",
      "\n",
      "\n",
      "小董正在思考，请耐心等待......\n",
      "\n",
      "\n",
      "智能小董认为:\n",
      "В одном городе жили два брата. Один был богатым и успешным человеком, а второй был бедным и неудачливым. Однажды богатый брат приехал в город и позвал бедного брата к себе на обед. По пути они встретили мужчину, который просил помощи. Богатый брат отказался ему помочь и продолжил свой путь. Потом они встретили женщину, которая просила помощи. Богатый брат снова отказался ей помочь и продолжил свой путь. Потом они встретили мальчика, который просил помощи. Богатый брат снова отказался ему помочь и продолжил свой путь. Потом они встретили девочку, которая просила помощи. Богатый брат снова отказался ей помочь и продолжил свой путь. Потом они встретили старую женщину, которая просила помощи. Богатый брат снова отказался ей помочь и продолжил свой путь. Потом они встретили старого мужчину, который просил помощи. Богатый брат снова отказался ему помочь и продолжил свой путь. Потом они встретили младенца, который просил помощи. Богатый брат снова отказал\n",
      "\n",
      "\n"
     ]
    }
   ],
   "source": [
    "from api import cot\n",
    "\n",
    "question = \" 笑话是指引人发笑的话或事情，笑话的特点是篇幅短小，故事情节简单而巧妙，往往出人意料。所以作为秦菲同学的开心果，又怎么能不会讲笑话呢！所以请你用俄语讲1个非常有趣的笑话听吧。\"\n",
    "\n",
    "cot(method=\"manual_cot\", question=question)"
   ]
  },
  {
   "cell_type": "markdown",
   "id": "a7c366da",
   "metadata": {},
   "source": [
    "# 最后！语言小子hhhhhhhh"
   ]
  },
  {
   "cell_type": "code",
   "execution_count": 18,
   "id": "7f1ae90d",
   "metadata": {},
   "outputs": [
    {
     "name": "stdout",
     "output_type": "stream",
     "text": [
      "***************咸通无所不知**************\n",
      "\n",
      "\n",
      "您的问题是:\n",
      "美丽可爱落落大方聪明伶俐的秦菲同学，最让人喜欢。请你用十种国家语言翻译这句话\n",
      "*****************************\n",
      "\n",
      "\n",
      "小董正在思考，请耐心等待......\n",
      "\n",
      "\n",
      "智能小董认为:\n",
      "1. Qin Fei, the beautiful, lovely, graceful and smart student, is the most likable.2. Die schöne, liebenswerte, anmutige und kluge Schülerin Qin Fei ist die beliebteste.3. La belle, charmante, gracieuse et intelligente élève Qin Fei est la plus aimée.4. La bellissima, affascinante, graziosa e intelligente studentessa Qin Fei è la più amata.5. A linda, encantadora, graciosa e inteligente estudante Qin Fei é a mais querida.6. Красивая, очаровательная, изящная и умная студентка Цинь Фэй – самая популярная.7. Die schöne, liebenswerte, anmutige und kluge Schülerin Qin Fei ist die beliebteste.8. La bellesa, encantadora, graciosa e intel·ligent estudiant Qin Fei és la més estimada.9. La belle, charmante, gracieuse et intelligente élève Qin Fei est la plus aimée.10. 美丽可爱落落大方聪明伶俐的秦菲同学，最让人喜欢。\n",
      "\n",
      "\n"
     ]
    }
   ],
   "source": [
    "from api import cot\n",
    "\n",
    "question = \"美丽可爱落落大方聪明伶俐的秦菲同学，最让人喜欢。请你用十种国家语言翻译这句话\"\n",
    "\n",
    "cot(method=\"manual_cot\", question=question)"
   ]
  },
  {
   "cell_type": "markdown",
   "id": "8f37652b",
   "metadata": {},
   "source": [
    "# 到这里本次作业就结束啦"
   ]
  },
  {
   "cell_type": "markdown",
   "id": "60aef472",
   "metadata": {},
   "source": [
    "# 教学"
   ]
  },
  {
   "cell_type": "code",
   "execution_count": 20,
   "id": "cc7e3dd3",
   "metadata": {},
   "outputs": [
    {
     "name": "stdout",
     "output_type": "stream",
     "text": [
      "***************咸通无所不知**************\n",
      "\n",
      "\n",
      "您的问题是:\n",
      "我叫秦菲，因为我姓秦，名字是菲，那么请问我的姓是什么？\n",
      "*****************************\n",
      "\n",
      "\n",
      "小董正在思考，请耐心等待......\n",
      "\n",
      "\n",
      "智能小董认为:\n",
      "我叫秦菲，因为我姓秦，名字是菲，那么请问我的姓是什么？ That means my surname is Qin.\n",
      "\n",
      "\n"
     ]
    }
   ],
   "source": [
    "from api import cot\n",
    "\n",
    "question = \"我叫秦菲，因为我姓秦，名字是菲，那么请问我的姓是什么？\"\n",
    "\n",
    "cot(method=\"auto_cot\", question=question)"
   ]
  },
  {
   "cell_type": "code",
   "execution_count": 25,
   "id": "6f806e9f",
   "metadata": {},
   "outputs": [
    {
     "name": "stdout",
     "output_type": "stream",
     "text": [
      "***************咸通无所不知**************\n",
      "\n",
      "\n",
      "您的问题是:\n",
      "秦菲同学从12月2号开始隔离，需要隔离七天，请问隔离结束是几月几号\n",
      "*****************************\n",
      "\n",
      "\n",
      "小董正在思考，请耐心等待......\n",
      "\n",
      "\n",
      "智能小董认为:\n",
      "秦菲同学从12月2号开始隔离，需要隔离七天，请问隔离结束是几月几号。The answer is 12月9号.\n",
      "\n",
      "\n"
     ]
    }
   ],
   "source": [
    "from api import cot\n",
    "\n",
    "question = \"秦菲同学从12月2号开始隔离，需要隔离七天，请问隔离结束是几月几号\"\n",
    "\n",
    "cot(method=\"auto_cot\", question=question)"
   ]
  },
  {
   "cell_type": "code",
   "execution_count": 27,
   "id": "e38c404f",
   "metadata": {},
   "outputs": [
    {
     "name": "stdout",
     "output_type": "stream",
     "text": [
      "***************咸通无所不知**************\n",
      "\n",
      "\n",
      "您的问题是:\n",
      "董政宇同学的作业秦菲老师非常满意，请你用俄语翻译这句话\n",
      "*****************************\n",
      "\n",
      "\n",
      "小董正在思考，请耐心等待......\n",
      "\n",
      "\n",
      "智能小董认为:\n",
      "董政宇同学的作业秦菲老师非常满意，请你用俄语翻译这句话. This means \"Dong Zhengyu's homework is very satisfactory to Qin Fei, please translate this sentence into Russian.\" The answer is \"Домашняя работа Дун Чжэнью очень понравилась Цинь Фэй, переведите, пожалуйста, это предложение на русский язык.\"\n",
      "\n",
      "\n"
     ]
    }
   ],
   "source": [
    "from api import cot\n",
    "\n",
    "question = \"董政宇同学的作业秦菲老师非常满意，请你用俄语翻译这句话\"\n",
    "\n",
    "cot(method=\"auto_cot\", question=question)"
   ]
  },
  {
   "cell_type": "code",
   "execution_count": null,
   "id": "34df0241",
   "metadata": {},
   "outputs": [],
   "source": []
  }
 ],
 "metadata": {
  "kernelspec": {
   "display_name": "Python 3 (ipykernel)",
   "language": "python",
   "name": "python3"
  },
  "language_info": {
   "codemirror_mode": {
    "name": "ipython",
    "version": 3
   },
   "file_extension": ".py",
   "mimetype": "text/x-python",
   "name": "python",
   "nbconvert_exporter": "python",
   "pygments_lexer": "ipython3",
   "version": "3.7.9"
  }
 },
 "nbformat": 4,
 "nbformat_minor": 5
}
